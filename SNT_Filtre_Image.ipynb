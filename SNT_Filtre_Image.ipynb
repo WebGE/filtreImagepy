{
 "cells": [
  {
   "cell_type": "markdown",
   "id": "professional-mozambique",
   "metadata": {},
   "source": [
    "# SNT -  La Photographie numérique\n",
    "## TP3 - Manipuler et filtrer une image (Python & Pillow)"
   ]
  },
  {
   "cell_type": "markdown",
   "id": "vocational-place",
   "metadata": {},
   "source": [
    "## 1. Présentation\n",
    "\n",
    "<p><strong>Ressources</strong> : <a href=\"https://info.blaisepascal.fr/pillow\">Découverte de la bibliothèque Pillow</a></p>\n",
    "\n",
    "<table>\n",
    "    <tr>\n",
    "        <td style=\"text-align:left; font-size:15px;\"><p>La bibliothèque Pillow, évolution de <strong>PIL(Python Imaging Library</strong>) ajoute des capacités de traitement d'images à l'interpréteur <strong>Python</strong>.</p><br>L’objet de base de PIL est défini dans la classe Image, du module du même nom. Après son ouverture, une image peut être affichée, redimensionnée, transformée, transposée, <strong>filtrée</strong> etc.</p><br>\n",
    "    <p>La méthode <strong>.crop</strong> du module <strong>Image</strong> permet de découper l'imagesur une zone rectangulaire selon les dimensions souhaitée. Un filtre est ensuite appliqué grâce au module <strong>ImageFilter</strong></p>\n",
    "        </td>\n",
    "        <td><img src=\"img/pillow.jpg\"></td>\n",
    "    </tr>\n",
    "</table>"
   ]
  },
  {
   "cell_type": "markdown",
   "id": "treated-longer",
   "metadata": {},
   "source": [
    "## 2. Activités\n",
    "> ### Objectif : découper et traiter une image par application de filtres."
   ]
  },
  {
   "cell_type": "markdown",
   "id": "competent-pricing",
   "metadata": {},
   "source": [
    "### ETAPE 1 : Définition de la zone à découper\n",
    "La zone à découper est un rectangle dont la diagonale est formée par le point **A(Xa,Ya)** se situant en haut et à gauche et le point **B(Xb,Yb)** se situant en bas et à droite. Sur Python, cette zone est définie par **(xa,ya,xb,yb)**.\n",
    "\n",
    "![dimensions.jpg](img/dimensions.jpg)"
   ]
  },
  {
   "cell_type": "markdown",
   "id": "patient-duration",
   "metadata": {},
   "source": [
    "### ETAPE 2 : Voir l'effet du programme\n",
    "<table>\n",
    "    <tr>\n",
    "        <td style=\"text-align:left; font-size:15px;\"><p><strong>Exécutez</strong> le code ci-dessous pour afficher l'image originale et voir l'effet des différents traitements.</p></td>\n",
    "        <td><img src=\"img/tommin.jpg\"></td>\n",
    "    </tr>\n",
    "</table>"
   ]
  },
  {
   "cell_type": "code",
   "execution_count": null,
   "id": "running-editing",
   "metadata": {},
   "outputs": [],
   "source": [
    "from PIL import Image\n",
    "from PIL import ImageFilter\n",
    "img=Image.open('img/tom.jpg')\n",
    "img.show()"
   ]
  },
  {
   "cell_type": "code",
   "execution_count": null,
   "id": "mature-price",
   "metadata": {},
   "outputs": [],
   "source": [
    "print(\"LxH:\",img.size)"
   ]
  },
  {
   "cell_type": "code",
   "execution_count": null,
   "id": "robust-treasurer",
   "metadata": {},
   "outputs": [],
   "source": [
    "xa = 1741; ya=0;xb=3979;yb=2388\n",
    "box=(xa,ya,xb,yb)\n",
    "decoupe = img.crop(box)\n",
    "decoupe.show()\n",
    "print(\"LxH:\",decoupe.size)"
   ]
  },
  {
   "cell_type": "code",
   "execution_count": null,
   "id": "canadian-column",
   "metadata": {},
   "outputs": [],
   "source": [
    "img2=Image.open('img/image_decoupee.png')\n",
    "img3 = img2.resize((223,238))\n",
    "img3.show() "
   ]
  },
  {
   "cell_type": "code",
   "execution_count": null,
   "id": "crude-samba",
   "metadata": {},
   "outputs": [],
   "source": [
    "img_filtree=img3.filter(ImageFilter.CONTOUR)\n",
    "img_filtree.show()"
   ]
  },
  {
   "cell_type": "markdown",
   "id": "understanding-smoke",
   "metadata": {},
   "source": [
    "### ETAPE 3 : Comprendre le programme"
   ]
  },
  {
   "cell_type": "markdown",
   "id": "impressed-controversy",
   "metadata": {},
   "source": [
    "> **Activité 1** - **Faites** l'activité 1 sur le document réponse."
   ]
  },
  {
   "cell_type": "markdown",
   "id": "average-director",
   "metadata": {},
   "source": [
    "### ETAPE 4 : Appliquer d'autres filtres"
   ]
  },
  {
   "cell_type": "markdown",
   "id": "beginning-flood",
   "metadata": {},
   "source": [
    "> **Activité 2** - Utilisez le code ci-dessous pour **tester** les filtres (**BLUR**, **EDGE_ENHANCE**, **EMBOSS**, **FIND_EDGES**) dans le code ci-dessous et **complétez** le document réponse."
   ]
  },
  {
   "cell_type": "code",
   "execution_count": null,
   "id": "federal-change",
   "metadata": {},
   "outputs": [],
   "source": [
    "img_filtree=img3.filter(ImageFilter.BLUR) # ? à remplacer par un nom de filtre\n",
    "img_filtree.show()"
   ]
  },
  {
   "cell_type": "code",
   "execution_count": null,
   "id": "polish-kentucky",
   "metadata": {},
   "outputs": [],
   "source": []
  }
 ],
 "metadata": {
  "kernelspec": {
   "display_name": "Python 3",
   "language": "python",
   "name": "python3"
  },
  "language_info": {
   "codemirror_mode": {
    "name": "ipython",
    "version": 3
   },
   "file_extension": ".py",
   "mimetype": "text/x-python",
   "name": "python",
   "nbconvert_exporter": "python",
   "pygments_lexer": "ipython3",
   "version": "3.8.8"
  }
 },
 "nbformat": 4,
 "nbformat_minor": 5
}
